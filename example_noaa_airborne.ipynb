{
 "cells": [
  {
   "cell_type": "markdown",
   "metadata": {},
   "source": [
    "# Random Forest for coastal feature extraction.\n",
    "\n",
    "The code and this notebook can be found on the github repo: https://github.com/Aryal007/ml_satellite_image_segmentation"
   ]
  },
  {
   "cell_type": "code",
   "execution_count": null,
   "metadata": {},
   "outputs": [],
   "source": [
    "from utils.data import Data\n",
    "%matplotlib inline"
   ]
  },
  {
   "cell_type": "markdown",
   "metadata": {},
   "source": [
    "* We encapsulate all our functions related to data processing in utils.data\n",
    "* tiff_filename and shp_filename are two required parameters for Data class\n",
    "* The other parameters include classes (Index for labels and its corresponding name), and default channel (for visualization in case of tiffs with multiple channels)\n",
    "* We can use data.get_constants() to print all the parameters for data object"
   ]
  },
  {
   "cell_type": "code",
   "execution_count": null,
   "metadata": {},
   "outputs": [],
   "source": [
    "tiff_name = \"./Data/Images/5_band3.tif\"\n",
    "shp_name = \"./Data/Labels/5_band3.shp\"\n",
    "data = Data(tiff_name, shp_name, classes = [\"water\", \"land\"])\n",
    "data.get_constants()"
   ]
  },
  {
   "cell_type": "markdown",
   "metadata": {},
   "source": [
    "Once we have the object created for Data class\n",
    "* data.read_tiff() -> reads the tiff_filename and returns rasterio object\n",
    "* data.read_shp() -> reads shp_filename and returns geopandas object\n",
    "* data.check_crs() -> raises an error if the crs of two objects don't match, verbose prints the crs for each object\n",
    "* data.get_tiff_details(tiff) -> reads the rasterio object and prints details of the tiff"
   ]
  },
  {
   "cell_type": "code",
   "execution_count": null,
   "metadata": {},
   "outputs": [],
   "source": [
    "tiff = data.read_tiff()\n",
    "shp = data.read_shp()\n",
    "data.check_crs(shp.crs, tiff.crs, verbose=True)"
   ]
  },
  {
   "cell_type": "code",
   "execution_count": null,
   "metadata": {},
   "outputs": [],
   "source": [
    "data.get_tiff_details(tiff)"
   ]
  },
  {
   "cell_type": "markdown",
   "metadata": {},
   "source": [
    "We need to convert geopandas polygon information to masks that correspond with given tiff image. For this, we can use data.get_mask(). This function burns the polygon into tiff file to produce image mask of dimensions tiff_height * tiff_width * len(classes) where classes represent the index, name dictionary for output labels. (Since we have only two labels (land and water), mask will have 2 channels)"
   ]
  },
  {
   "cell_type": "code",
   "execution_count": null,
   "metadata": {},
   "outputs": [],
   "source": [
    "mask = data.get_mask()"
   ]
  },
  {
   "cell_type": "markdown",
   "metadata": {},
   "source": [
    "### Data Visualization\n",
    "* data.view_tiff(tiff) -> reads rasterio object from read_tiff() and uses default channels to visualize as RGB\n",
    "* you can also pass an integer as parameter channel to visualize that channel only\n",
    "* data.view_mask(mask) -> reads the mask numpy array and visualizes it as labeled images"
   ]
  },
  {
   "cell_type": "code",
   "execution_count": null,
   "metadata": {},
   "outputs": [],
   "source": [
    "data.view_tiff(tiff)"
   ]
  },
  {
   "cell_type": "code",
   "execution_count": null,
   "metadata": {
    "scrolled": true
   },
   "outputs": [],
   "source": [
    "data.view_tiff(tiff, channel=1)"
   ]
  },
  {
   "cell_type": "code",
   "execution_count": null,
   "metadata": {},
   "outputs": [],
   "source": [
    "data.view_mask(mask)"
   ]
  },
  {
   "cell_type": "code",
   "execution_count": null,
   "metadata": {},
   "outputs": [],
   "source": [
    "X, y = data.get_Xy(tiff, mask, n_sample = 2000000)\n",
    "X_train, X_test, y_train, y_test = data.train_test_split(X, y, save=False)"
   ]
  },
  {
   "cell_type": "code",
   "execution_count": null,
   "metadata": {},
   "outputs": [],
   "source": [
    "data.get_histogram(X_train, y_train, channel = 1)"
   ]
  },
  {
   "cell_type": "code",
   "execution_count": null,
   "metadata": {},
   "outputs": [],
   "source": [
    "from utils.estimators import Dataset, Classifier"
   ]
  },
  {
   "cell_type": "code",
   "execution_count": null,
   "metadata": {},
   "outputs": [],
   "source": [
    "dataset = Dataset(X_train, X_test, y_train, y_test)\n",
    "dataset.info()"
   ]
  },
  {
   "cell_type": "code",
   "execution_count": null,
   "metadata": {},
   "outputs": [],
   "source": [
    "classifier = Classifier()"
   ]
  },
  {
   "cell_type": "markdown",
   "metadata": {},
   "source": [
    "### Lets create a test set from another tiff to test across geographic generalization"
   ]
  },
  {
   "cell_type": "code",
   "execution_count": null,
   "metadata": {},
   "outputs": [],
   "source": [
    "tiff_filename = \"./Data/Images/5_band15.tif\"\n",
    "shp_filename = \"./Data/Labels/5_band15.shp\"\n",
    "test_data = Data(tiff_filename, shp_filename, classes = [\"water\", \"land\"])\n",
    "test_tiff = test_data.read_tiff() \n",
    "actual_mask = test_data.get_mask()\n",
    "test_data.view_tiff(test_tiff)\n",
    "test_data.view_mask(actual_mask)\n",
    "_X, _y = data.get_Xy(test_tiff, actual_mask, n_sample = 2000000)\n",
    "_X_train, _X_test, _y_train, _y_test = data.train_test_split(_X, _y, save=False)\n",
    "test_dataset = Dataset(_X_train, _X_test, _y_train, _y_test)\n",
    "test_data.get_histogram(X_train, y_train, channel = 1)"
   ]
  },
  {
   "cell_type": "markdown",
   "metadata": {},
   "source": [
    "### Testing across samples from same tiff"
   ]
  },
  {
   "cell_type": "code",
   "execution_count": null,
   "metadata": {},
   "outputs": [],
   "source": [
    "classifier.random_forest(trainX=dataset.trainX, trainY=dataset.trainY, testX=dataset.testX, testY=dataset.testY,\n",
    "                  grid_search=False, train=True, n_estimators = 10, max_depth = 3, feature_importance=True)"
   ]
  },
  {
   "cell_type": "markdown",
   "metadata": {},
   "source": [
    "### Testing on a different geographical region"
   ]
  },
  {
   "cell_type": "code",
   "execution_count": null,
   "metadata": {},
   "outputs": [],
   "source": [
    "classifier.random_forest(trainX=dataset.trainX, trainY=dataset.trainY, testX=test_dataset.testX, testY=test_dataset.testY,\n",
    "                  grid_search=False, train=True, n_estimators = 10, max_depth = 3, feature_importance=False)"
   ]
  },
  {
   "cell_type": "markdown",
   "metadata": {},
   "source": [
    "### Using combined both images"
   ]
  },
  {
   "cell_type": "code",
   "execution_count": null,
   "metadata": {},
   "outputs": [],
   "source": [
    "import numpy as np\n",
    "\n",
    "tiff_filename = \"./Data/Images/5_band1.tif\"\n",
    "shp_filename = \"./Data/Labels/5_band1.shp\"\n",
    "combined_data = Data(tiff_filename, shp_filename, classes = [\"water\", \"land\"])\n",
    "combined_tiff = combined_data.read_tiff() \n",
    "combined_mask = combined_data.get_mask()\n",
    "X, y = data.get_Xy(combined_tiff, combined_mask, n_sample = 100000)\n",
    "tiff_filename = \"./Data/Images/5_band15.tif\"\n",
    "shp_filename = \"./Data/Labels/5_band15.shp\"\n",
    "combined_data = Data(tiff_filename, shp_filename, classes = [\"water\", \"land\"])\n",
    "combined_tiff = combined_data.read_tiff() \n",
    "combined_mask = combined_data.get_mask()\n",
    "_X, _y = data.get_Xy(combined_tiff, combined_mask, n_sample = 100000)\n",
    "X, y = np.concatenate((X, _X), axis = 0), np.concatenate((y, _y), axis = 0)\n",
    "X_train, X_test, y_train, y_test = data.train_test_split(X, y, save=False)\n",
    "data.get_histogram(X_train, y_train, channel = 1)\n",
    "added_test_dataset = Dataset(X_train, X_test, y_train, y_test)\n",
    "classifier.random_forest(trainX=added_test_dataset.trainX, trainY=added_test_dataset.trainY, testX=added_test_dataset.testX, testY=added_test_dataset.testY,\n",
    "                   grid_search=False, train=True, n_estimators = 10, max_depth = 3, feature_importance=True)"
   ]
  },
  {
   "cell_type": "markdown",
   "metadata": {},
   "source": [
    "### Using a folderpath as input"
   ]
  },
  {
   "cell_type": "code",
   "execution_count": null,
   "metadata": {},
   "outputs": [],
   "source": [
    "tiff_location = \"./Sample/Images/\"\n",
    "shp_location = \"./Sample/Labels/\"\n",
    "all_data = Data(tiff_filename, shp_filename, classes = [\"water\", \"land\"])\n",
    "all_tiff = all_data.read_tiff() \n",
    "all_mask = all_data.get_mask()\n",
    "X, y = all_data.get_Xy(all_tiff, all_mask, n_sample = 100000)\n",
    "X_train, X_test, y_train, y_test = all_data.train_test_split(X, y, save=False)\n",
    "all_data.get_histogram(X_train, y_train, channel = 1)\n",
    "all_dataset = Dataset(X_train, X_test, y_train, y_test)\n",
    "classifier.random_forest(trainX=all_dataset.trainX, trainY=all_dataset.trainY, testX=all_dataset.testX, testY=all_dataset.testY,\n",
    "                   grid_search=False, train=True, n_estimators = 10, max_depth = 3, feature_importance=True)"
   ]
  },
  {
   "cell_type": "code",
   "execution_count": null,
   "metadata": {},
   "outputs": [],
   "source": [
    "classifier.random_forest(trainX=all_dataset.trainX, trainY=all_dataset.trainY, testX=all_dataset.testX, testY=all_dataset.testY,\n",
    "                   grid_search=False, train=True, n_estimators = 10, max_depth = 3, feature_importance=True)"
   ]
  },
  {
   "cell_type": "code",
   "execution_count": null,
   "metadata": {},
   "outputs": [],
   "source": [
    "all_data.view_mask(all_mask[0])\n",
    "all_data.view_tiff(all_tiff[0])\n",
    "prediction = classifier.get_labels(all_tiff[0],\"/estimator.sav\")\n",
    "all_data.view_mask(prediction)"
   ]
  },
  {
   "cell_type": "code",
   "execution_count": null,
   "metadata": {},
   "outputs": [],
   "source": []
  }
 ],
 "metadata": {
  "kernelspec": {
   "display_name": "Python 3",
   "language": "python",
   "name": "python3"
  },
  "language_info": {
   "codemirror_mode": {
    "name": "ipython",
    "version": 3
   },
   "file_extension": ".py",
   "mimetype": "text/x-python",
   "name": "python",
   "nbconvert_exporter": "python",
   "pygments_lexer": "ipython3",
   "version": "3.8.3"
  }
 },
 "nbformat": 4,
 "nbformat_minor": 4
}
