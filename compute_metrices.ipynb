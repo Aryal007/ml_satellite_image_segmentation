{
 "cells": [
  {
   "cell_type": "markdown",
   "metadata": {},
   "source": [
    "## Import Libraries"
   ]
  },
  {
   "cell_type": "code",
   "execution_count": 12,
   "metadata": {},
   "outputs": [],
   "source": [
    "from utils.data import Data\n",
    "import numpy as np\n",
    "import matplotlib.pyplot as plt\n",
    "import rasterio\n",
    "np.random.seed(7)"
   ]
  },
  {
   "cell_type": "markdown",
   "metadata": {},
   "source": [
    "## Define functions"
   ]
  },
  {
   "cell_type": "code",
   "execution_count": 13,
   "metadata": {},
   "outputs": [],
   "source": [
    "def get_acc(true, pred, channel):\n",
    "    pred[true == 0] = 0\n",
    "    correct = np.sum((true == channel)*(pred==channel))\n",
    "    total = np.sum(true==channel)\n",
    "    return correct/total\n",
    "\n",
    "def get_precision(true, pred, channel):\n",
    "    pred[true == 0] = 0\n",
    "    tp = np.sum((true == channel)*(pred==channel))\n",
    "    fp = np.sum((true != channel)*(pred==channel))\n",
    "    return tp/(tp+fp)\n",
    "\n",
    "def get_recall(true, pred, channel):\n",
    "    pred[true == 0] = 0\n",
    "    tp = np.sum((true == channel)*(pred==channel))\n",
    "    fn = np.sum((true == channel)*(pred!=channel))\n",
    "    return tp/(tp+fn)\n",
    "\n",
    "def get_fscore(true, pred, channel):\n",
    "    pred[true == 0] = 0\n",
    "    precision = get_precision(true, pred, channel)\n",
    "    recall = get_recall(true, pred, channel)\n",
    "    return 2*precision*recall/(precision+recall)\n",
    "\n",
    "def get_acc_precision_recall_fscore(true, pred, channel):\n",
    "    acc = get_acc(true, pred, channel)\n",
    "    precision = get_precision(true, pred, channel)\n",
    "    recall = get_recall(true, pred, channel)\n",
    "    fscore = get_fscore(true, pred, channel)\n",
    "    return round(acc, 4), round(precision, 4), round(recall, 4), round(fscore, 4)"
   ]
  },
  {
   "cell_type": "markdown",
   "metadata": {},
   "source": [
    "## Jornada Site C Post harvest"
   ]
  },
  {
   "cell_type": "code",
   "execution_count": 16,
   "metadata": {},
   "outputs": [
    {
     "name": "stdout",
     "output_type": "stream",
     "text": [
      "Maximum Likelihood\n",
      "\tbare ground\t| Accuracy, Precision, Recall, FScore:(0.9081, 0.6773, 0.9081, 0.7759)\n",
      "\tgramanoid\t| Accuracy, Precision, Recall, FScore:(0.4083, 0.7156, 0.4083, 0.5199)\n",
      "\tshade\t| Accuracy, Precision, Recall, FScore:(0.885, 0.8796, 0.885, 0.8823)\n",
      "\tshrub\t| Accuracy, Precision, Recall, FScore:(0.9389, 0.9678, 0.9389, 0.9532)\n",
      "Random Forest\n",
      "\tbare ground\t| Accuracy, Precision, Recall, FScore:(0.6882, 0.6937, 0.6882, 0.6909)\n",
      "\tgramanoid\t| Accuracy, Precision, Recall, FScore:(0.551, 0.4653, 0.551, 0.5046)\n",
      "\tshade\t| Accuracy, Precision, Recall, FScore:(0.9033, 0.8491, 0.9033, 0.8753)\n",
      "\tshrub\t| Accuracy, Precision, Recall, FScore:(0.8888, 0.9886, 0.8888, 0.9361)\n"
     ]
    }
   ],
   "source": [
    "c_post_tiff_filename = \"./Sergio/Images/JOR_C_Post.tif\"\n",
    "c_post_shp_filename = \"./Sergio/Labels/JOR_C_Post.shp\"\n",
    "c_post_data = Data(c_post_tiff_filename, c_post_shp_filename, classes = ['Bare Ground','Graminoid','Shade', 'Shrub'])\n",
    "c_post_tiff = c_post_data.read_tiff()\n",
    "c_post_mask = c_post_data.get_mask(column=\"Classname\", drop=\"Other\")\n",
    "nil = np.sum(c_post_mask, axis=2) == 0\n",
    "ground_truth = np.argmax(c_post_mask, axis=2)+1\n",
    "ground_truth[nil] = 0\n",
    "# Ground Truth classes\n",
    "#   0 : nil\n",
    "#   1 : bare ground\n",
    "#   2 : gramanoid\n",
    "#   3 : shade\n",
    "#   4 : shrub\n",
    "max_likelihood_file = \"./Sergio/max_likelihood/JOR_C_Post_max_likelihood.tif\"\n",
    "max_likelihood_tiff = rasterio.open(max_likelihood_file)\n",
    "max_likelihood_np = max_likelihood_tiff.read()\n",
    "max_likelihood_np = np.squeeze(max_likelihood_np)\n",
    "# Max likelihood classes\n",
    "#   0 : background\n",
    "#   1 : shrub\n",
    "#   2 : gramanoid\n",
    "#   3 : bare ground\n",
    "#   4 : shade\n",
    "#   5 : Others\n",
    "max_likelihood_np[max_likelihood_np==4] = 30\n",
    "max_likelihood_np[max_likelihood_np==1] = 4\n",
    "max_likelihood_np[max_likelihood_np==3] = 1\n",
    "max_likelihood_np[max_likelihood_np==30] = 3\n",
    "random_forest_file = \"./outputs/c_post_all.tif\"\n",
    "random_forest_tiff = rasterio.open(random_forest_file)\n",
    "random_forest_np = random_forest_tiff.read()\n",
    "random_forest_np = np.squeeze(random_forest_np)\n",
    "from collections import Counter\n",
    "Counter(random_forest_np.flatten())\n",
    "# Random Forest classes\n",
    "#   0 : nil\n",
    "#   1 : bare ground\n",
    "#   2 : gramanoid\n",
    "#   3 : shade\n",
    "#   4 : shrub\n",
    "#   5 : background\n",
    "print(\"Maximum Likelihood\")\n",
    "classes = [\"bare ground\", \"gramanoid\", \"shade\", \"shrub\"]\n",
    "for i,label in enumerate(classes):\n",
    "    print(f\"\\t{label}\\t| Accuracy, Precision, Recall, FScore:{get_acc_precision_recall_fscore(ground_truth, max_likelihood_np, i+1)}\")\n",
    "print(\"Random Forest\")\n",
    "classes = [\"bare ground\", \"gramanoid\", \"shade\", \"shrub\"]\n",
    "for i,label in enumerate(classes):\n",
    "    print(f\"\\t{label}\\t| Accuracy, Precision, Recall, FScore:{get_acc_precision_recall_fscore(ground_truth, random_forest_np, i+1)}\")"
   ]
  },
  {
   "cell_type": "markdown",
   "metadata": {},
   "source": [
    "## Jornada Site M Pre Harvest"
   ]
  },
  {
   "cell_type": "code",
   "execution_count": 40,
   "metadata": {},
   "outputs": [
    {
     "name": "stderr",
     "output_type": "stream",
     "text": [
      "/home/ecology/.local/lib/python3.6/site-packages/pyproj/crs/crs.py:53: FutureWarning: '+init=<authority>:<code>' syntax is deprecated. '<authority>:<code>' is the preferred initialization method. When making the change, be mindful of axis order changes: https://pyproj4.github.io/pyproj/stable/gotchas.html#axis-order-changes-in-proj-6\n",
      "  return _prepare_from_string(\" \".join(pjargs))\n"
     ]
    },
    {
     "name": "stdout",
     "output_type": "stream",
     "text": [
      "Maximum Likelihood\n",
      "(2600, 2740)\n",
      "(2600, 2740)\n",
      "(2600, 2740)\n",
      "\tbare ground\t| Accuracy, Precision, Recall, FScore:(0.9429, 0.6066, 0.9429, 0.7382)\n",
      "\tgramanoid\t| Accuracy, Precision, Recall, FScore:(0.3166, 0.7822, 0.3166, 0.4507)\n",
      "\tshade\t| Accuracy, Precision, Recall, FScore:(0.929, 0.8614, 0.929, 0.894)\n",
      "\tshrub\t| Accuracy, Precision, Recall, FScore:(0.971, 0.9892, 0.971, 0.98)\n",
      "Random Forest\n",
      "\tbare ground\t| Accuracy, Precision, Recall, FScore:(0.4743, 0.586, 0.4743, 0.5243)\n",
      "\tgramanoid\t| Accuracy, Precision, Recall, FScore:(0.7913, 0.5221, 0.7913, 0.6291)\n",
      "\tshade\t| Accuracy, Precision, Recall, FScore:(0.2747, 0.4319, 0.2747, 0.3358)\n",
      "\tshrub\t| Accuracy, Precision, Recall, FScore:(0.9335, 0.9837, 0.9335, 0.9579)\n"
     ]
    }
   ],
   "source": [
    "m_pre_tiff_filename = \"./Sergio/Images/JOR_M_Pre.tif\"\n",
    "m_pre_shp_filename = \"./Sergio/Labels/JOR_M_Pre.shp\"\n",
    "m_pre_data = Data(m_pre_tiff_filename, m_pre_shp_filename, classes = ['Bare Ground','Graminoid','Shade', 'Shrub'])\n",
    "m_pre_tiff = m_pre_data.read_tiff()\n",
    "m_pre_mask = m_pre_data.get_mask(column=\"Classname\", drop=\"Other\")\n",
    "nil = np.sum(m_pre_mask, axis=2) == 0\n",
    "ground_truth = np.argmax(m_pre_mask, axis=2)+1\n",
    "ground_truth[nil] = 0\n",
    "# Ground Truth classes\n",
    "#   0 : nil\n",
    "#   1 : bare ground\n",
    "#   2 : gramanoid\n",
    "#   3 : shade\n",
    "#   4 : shrub\n",
    "max_likelihood_file = \"./Sergio/max_likelihood/JOR_M_Pre_max_likelihood.tif\"\n",
    "max_likelihood_tiff = rasterio.open(max_likelihood_file)\n",
    "max_likelihood_np = max_likelihood_tiff.read()\n",
    "max_likelihood_np = np.squeeze(max_likelihood_np)\n",
    "# Max likelihood classes\n",
    "#   0 : background\n",
    "#   1 : shrub\n",
    "#   2 : gramanoid\n",
    "#   3 : bare ground\n",
    "#   4 : shade\n",
    "#   5 : Others\n",
    "max_likelihood_np[max_likelihood_np==4] = 30\n",
    "max_likelihood_np[max_likelihood_np==1] = 4\n",
    "max_likelihood_np[max_likelihood_np==3] = 1\n",
    "max_likelihood_np[max_likelihood_np==30] = 3\n",
    "random_forest_file = \"./outputs/m_pre_all.tif\"\n",
    "random_forest_tiff = rasterio.open(random_forest_file)\n",
    "random_forest_np = random_forest_tiff.read()\n",
    "random_forest_np = np.squeeze(random_forest_np)\n",
    "from collections import Counter\n",
    "Counter(random_forest_np.flatten())\n",
    "# Random Forest classes\n",
    "#   0 : nil\n",
    "#   1 : bare ground\n",
    "#   2 : gramanoid\n",
    "#   3 : shade\n",
    "#   4 : shrub\n",
    "#   5 : background\n",
    "print(\"Maximum Likelihood\")\n",
    "ground_truth = ground_truth[:-1,:-1]\n",
    "random_forest_np = random_forest_np[:-1,:-1]\n",
    "classes = [\"bare ground\", \"gramanoid\", \"shade\", \"shrub\"]\n",
    "for i,label in enumerate(classes):\n",
    "    print(f\"\\t{label}\\t| Accuracy, Precision, Recall, FScore:{get_acc_precision_recall_fscore(ground_truth, max_likelihood_np, i+1)}\")\n",
    "print(\"Random Forest\")\n",
    "classes = [\"bare ground\", \"gramanoid\", \"shade\", \"shrub\"]\n",
    "for i,label in enumerate(classes):\n",
    "    print(f\"\\t{label}\\t| Accuracy, Precision, Recall, FScore:{get_acc_precision_recall_fscore(ground_truth, random_forest_np, i+1)}\")"
   ]
  },
  {
   "cell_type": "markdown",
   "metadata": {},
   "source": [
    "## Jornada Site M Post harvest"
   ]
  },
  {
   "cell_type": "code",
   "execution_count": 27,
   "metadata": {},
   "outputs": [
    {
     "name": "stderr",
     "output_type": "stream",
     "text": [
      "/home/ecology/.local/lib/python3.6/site-packages/pyproj/crs/crs.py:53: FutureWarning: '+init=<authority>:<code>' syntax is deprecated. '<authority>:<code>' is the preferred initialization method. When making the change, be mindful of axis order changes: https://pyproj4.github.io/pyproj/stable/gotchas.html#axis-order-changes-in-proj-6\n",
      "  return _prepare_from_string(\" \".join(pjargs))\n"
     ]
    },
    {
     "name": "stdout",
     "output_type": "stream",
     "text": [
      "Maximum Likelihood\n",
      "\tbare ground\t| Accuracy, Precision, Recall, FScore:(0.9487, 0.5941, 0.9487, 0.7307)\n",
      "\tgramanoid\t| Accuracy, Precision, Recall, FScore:(0.274, 0.7461, 0.274, 0.4008)\n",
      "\tshade\t| Accuracy, Precision, Recall, FScore:(0.9328, 0.8664, 0.9328, 0.8984)\n",
      "\tshrub\t| Accuracy, Precision, Recall, FScore:(0.9653, 0.9868, 0.9653, 0.976)\n",
      "Random Forest\n",
      "\tbare ground\t| Accuracy, Precision, Recall, FScore:(0.7768, 0.6611, 0.7768, 0.7143)\n",
      "\tgramanoid\t| Accuracy, Precision, Recall, FScore:(0.5126, 0.6769, 0.5126, 0.5834)\n",
      "\tshade\t| Accuracy, Precision, Recall, FScore:(0.9727, 0.7258, 0.9727, 0.8313)\n",
      "\tshrub\t| Accuracy, Precision, Recall, FScore:(0.9477, 0.9891, 0.9477, 0.9679)\n"
     ]
    }
   ],
   "source": [
    "m_post_tiff_filename = \"./Sergio/Images/JOR_M_Post.tif\"\n",
    "m_post_shp_filename = \"./Sergio/Labels/JOR_M_Post.shp\"\n",
    "m_post_data = Data(m_post_tiff_filename, m_post_shp_filename, classes = ['Bare Ground','Graminoid','Shade', 'Shrub'])\n",
    "m_post_tiff = m_post_data.read_tiff()\n",
    "m_post_mask = m_post_data.get_mask(column=\"Classname\", drop=\"Other\")\n",
    "nil = np.sum(m_post_mask, axis=2) == 0\n",
    "ground_truth = np.argmax(m_post_mask, axis=2)+1\n",
    "ground_truth[nil] = 0\n",
    "# Ground Truth classes\n",
    "#   0 : nil\n",
    "#   1 : bare ground\n",
    "#   2 : gramanoid\n",
    "#   3 : shade\n",
    "#   4 : shrub\n",
    "max_likelihood_file = \"./Sergio/max_likelihood/JOR_M_Post_max_likelihood.tif\"\n",
    "max_likelihood_tiff = rasterio.open(max_likelihood_file)\n",
    "max_likelihood_np = max_likelihood_tiff.read()\n",
    "max_likelihood_np = np.squeeze(max_likelihood_np)\n",
    "# Max likelihood classes\n",
    "#   0 : background\n",
    "#   1 : shrub\n",
    "#   2 : gramanoid\n",
    "#   3 : bare ground\n",
    "#   4 : shade\n",
    "#   5 : Others\n",
    "max_likelihood_np[max_likelihood_np==4] = 30\n",
    "max_likelihood_np[max_likelihood_np==1] = 4\n",
    "max_likelihood_np[max_likelihood_np==3] = 1\n",
    "max_likelihood_np[max_likelihood_np==30] = 3\n",
    "random_forest_file = \"./outputs/m_post_all.tif\"\n",
    "random_forest_tiff = rasterio.open(random_forest_file)\n",
    "random_forest_np = random_forest_tiff.read()\n",
    "random_forest_np = np.squeeze(random_forest_np)\n",
    "from collections import Counter\n",
    "Counter(random_forest_np.flatten())\n",
    "# Random Forest classes\n",
    "#   0 : nil\n",
    "#   1 : bare ground\n",
    "#   2 : gramanoid\n",
    "#   3 : shade\n",
    "#   4 : shrub\n",
    "#   5 : background\n",
    "print(\"Maximum Likelihood\")\n",
    "classes = [\"bare ground\", \"gramanoid\", \"shade\", \"shrub\"]\n",
    "for i,label in enumerate(classes):\n",
    "    print(f\"\\t{label}\\t| Accuracy, Precision, Recall, FScore:{get_acc_precision_recall_fscore(ground_truth, max_likelihood_np, i+1)}\")\n",
    "print(\"Random Forest\")\n",
    "classes = [\"bare ground\", \"gramanoid\", \"shade\", \"shrub\"]\n",
    "for i,label in enumerate(classes):\n",
    "    print(f\"\\t{label}\\t| Accuracy, Precision, Recall, FScore:{get_acc_precision_recall_fscore(ground_truth, random_forest_np, i+1)}\")"
   ]
  },
  {
   "cell_type": "markdown",
   "metadata": {},
   "source": [
    "## Jornada Site P Pre Harvest"
   ]
  },
  {
   "cell_type": "code",
   "execution_count": 50,
   "metadata": {},
   "outputs": [
    {
     "name": "stderr",
     "output_type": "stream",
     "text": [
      "/home/ecology/.local/lib/python3.6/site-packages/pyproj/crs/crs.py:53: FutureWarning: '+init=<authority>:<code>' syntax is deprecated. '<authority>:<code>' is the preferred initialization method. When making the change, be mindful of axis order changes: https://pyproj4.github.io/pyproj/stable/gotchas.html#axis-order-changes-in-proj-6\n",
      "  return _prepare_from_string(\" \".join(pjargs))\n"
     ]
    },
    {
     "name": "stdout",
     "output_type": "stream",
     "text": [
      "No valid geometry objects found for rasterize\n",
      "Shrub\n",
      "Maximum Likelihood\n",
      "\tbare ground\t| Accuracy, Precision, Recall, FScore:(0.0001, 0.0001, 0.0001, 0.0001)\n",
      "\tgramanoid\t| Accuracy, Precision, Recall, FScore:(0.0402, 0.134, 0.0402, 0.0619)\n",
      "\tshade\t| Accuracy, Precision, Recall, FScore:(0.0003, 0.0001, 0.0003, 0.0001)\n"
     ]
    },
    {
     "name": "stderr",
     "output_type": "stream",
     "text": [
      "/usr/lib/python3/dist-packages/ipykernel_launcher.py:5: RuntimeWarning: invalid value encountered in long_scalars\n",
      "  \"\"\"\n",
      "/usr/lib/python3/dist-packages/ipykernel_launcher.py:17: RuntimeWarning: invalid value encountered in long_scalars\n"
     ]
    },
    {
     "name": "stdout",
     "output_type": "stream",
     "text": [
      "\tshrub\t| Accuracy, Precision, Recall, FScore:(nan, 0.0, nan, nan)\n",
      "Random Forest\n",
      "\tbare ground\t| Accuracy, Precision, Recall, FScore:(0.9724, 0.9978, 0.9724, 0.9849)\n",
      "\tgramanoid\t| Accuracy, Precision, Recall, FScore:(0.8065, 0.9178, 0.8065, 0.8586)\n",
      "\tshade\t| Accuracy, Precision, Recall, FScore:(0.8366, 0.8002, 0.8366, 0.818)\n",
      "\tshrub\t| Accuracy, Precision, Recall, FScore:(nan, 0.0, nan, nan)\n"
     ]
    }
   ],
   "source": [
    "p_pre_tiff_filename = \"./Sergio/Images/JOR_P_Pre.tif\"\n",
    "p_pre_shp_filename = \"./Sergio/Labels/JOR_P_Pre.shp\"\n",
    "p_pre_data = Data(p_pre_tiff_filename, p_pre_shp_filename, classes = ['Bare Ground','Graminoid','Shade', 'Shrub'])\n",
    "p_pre_tiff = p_pre_data.read_tiff()\n",
    "p_pre_mask = p_pre_data.get_mask(column=\"Classname\", drop=\"Other\")\n",
    "nil = np.sum(p_pre_mask, axis=2) == 0\n",
    "ground_truth = np.argmax(p_pre_mask, axis=2)+1\n",
    "ground_truth[nil] = 0\n",
    "# Ground Truth classes\n",
    "#   0 : nil\n",
    "#   1 : bare ground\n",
    "#   2 : gramanoid\n",
    "#   3 : shade\n",
    "#   4 : shrub\n",
    "max_likelihood_file = \"./Sergio/max_likelihood/JOR_P_Pre_max_likelihood.tif\"\n",
    "max_likelihood_tiff = rasterio.open(max_likelihood_file)\n",
    "max_likelihood_np = max_likelihood_tiff.read()\n",
    "max_likelihood_np = np.squeeze(max_likelihood_np)\n",
    "# Max likelihood classes\n",
    "#   0 : background\n",
    "#   1 : shrub\n",
    "#   2 : gramanoid\n",
    "#   3 : bare ground\n",
    "#   4 : shade\n",
    "#   5 : Others\n",
    "max_likelihood_np[max_likelihood_np==3] = 40\n",
    "max_likelihood_np[max_likelihood_np==1] = 3\n",
    "max_likelihood_np[max_likelihood_np==3] = 2\n",
    "random_forest_file = \"./outputs/p_pre_all.tif\"\n",
    "random_forest_tiff = rasterio.open(random_forest_file)\n",
    "random_forest_np = random_forest_tiff.read()\n",
    "random_forest_np = np.squeeze(random_forest_np)\n",
    "from collections import Counter\n",
    "Counter(random_forest_np.flatten())\n",
    "# Random Forest classes\n",
    "#   0 : nil\n",
    "#   1 : bare ground\n",
    "#   2 : gramanoid\n",
    "#   3 : shade\n",
    "#   4 : shrub\n",
    "#   5 : background\n",
    "print(\"Maximum Likelihood\")\n",
    "ground_truth = ground_truth[:-1,:-1]\n",
    "random_forest_np = random_forest_np[:-1,:-1]\n",
    "classes = [\"bare ground\", \"gramanoid\", \"shade\", \"shrub\"]\n",
    "for i,label in enumerate(classes):\n",
    "    print(f\"\\t{label}\\t| Accuracy, Precision, Recall, FScore:{get_acc_precision_recall_fscore(ground_truth, max_likelihood_np, i+1)}\")\n",
    "print(\"Random Forest\")\n",
    "classes = [\"bare ground\", \"gramanoid\", \"shade\", \"shrub\"]\n",
    "for i,label in enumerate(classes):\n",
    "    print(f\"\\t{label}\\t| Accuracy, Precision, Recall, FScore:{get_acc_precision_recall_fscore(ground_truth, random_forest_np, i+1)}\")"
   ]
  },
  {
   "cell_type": "markdown",
   "metadata": {},
   "source": [
    "## Jornada Site P Post Harvest"
   ]
  },
  {
   "cell_type": "code",
   "execution_count": 33,
   "metadata": {},
   "outputs": [
    {
     "name": "stderr",
     "output_type": "stream",
     "text": [
      "/home/ecology/.local/lib/python3.6/site-packages/pyproj/crs/crs.py:53: FutureWarning: '+init=<authority>:<code>' syntax is deprecated. '<authority>:<code>' is the preferred initialization method. When making the change, be mindful of axis order changes: https://pyproj4.github.io/pyproj/stable/gotchas.html#axis-order-changes-in-proj-6\n",
      "  return _prepare_from_string(\" \".join(pjargs))\n"
     ]
    },
    {
     "name": "stdout",
     "output_type": "stream",
     "text": [
      "No valid geometry objects found for rasterize\n",
      "Shrub\n",
      "Counter({1: 1371399, 0: 1305450, 2: 855030, 3: 221827, 4: 184694})\n",
      "Maximum Likelihood\n",
      "\tbare ground\t| Accuracy, Precision, Recall, FScore:(0.0004, 0.0015, 0.0004, 0.0007)\n",
      "\tgramanoid\t| Accuracy, Precision, Recall, FScore:(0.0006, 0.0008, 0.0006, 0.0007)\n",
      "\tshade\t| Accuracy, Precision, Recall, FScore:(0.0085, 0.1544, 0.0085, 0.0161)\n"
     ]
    },
    {
     "name": "stderr",
     "output_type": "stream",
     "text": [
      "/usr/lib/python3/dist-packages/ipykernel_launcher.py:5: RuntimeWarning: invalid value encountered in long_scalars\n",
      "  \"\"\"\n",
      "/usr/lib/python3/dist-packages/ipykernel_launcher.py:17: RuntimeWarning: invalid value encountered in long_scalars\n"
     ]
    },
    {
     "name": "stdout",
     "output_type": "stream",
     "text": [
      "\tshrub\t| Accuracy, Precision, Recall, FScore:(nan, 0.0, nan, nan)\n",
      "Random Forest\n",
      "\tbare ground\t| Accuracy, Precision, Recall, FScore:(0.9043, 0.9999, 0.9043, 0.9497)\n",
      "\tgramanoid\t| Accuracy, Precision, Recall, FScore:(0.5219, 0.9083, 0.5219, 0.6629)\n",
      "\tshade\t| Accuracy, Precision, Recall, FScore:(0.9966, 0.3584, 0.9966, 0.5272)\n",
      "\tshrub\t| Accuracy, Precision, Recall, FScore:(nan, 0.0, nan, nan)\n"
     ]
    }
   ],
   "source": [
    "p_post_tiff_filename = \"./Sergio/Images/JOR_P_Post.tif\"\n",
    "p_post_shp_filename = \"./Sergio/Labels/JOR_P_Post.shp\"\n",
    "p_post_data = Data(p_post_tiff_filename, p_post_shp_filename, classes = ['Bare Ground','Graminoid','Shade', 'Shrub'])\n",
    "p_post_tiff = p_post_data.read_tiff()\n",
    "p_post_mask = p_post_data.get_mask(column=\"Classname\", drop=\"Other\")\n",
    "nil = np.sum(p_post_mask, axis=2) == 0\n",
    "ground_truth = np.argmax(p_post_mask, axis=2)+1\n",
    "ground_truth[nil] = 0\n",
    "# Ground Truth classes\n",
    "#   0 : nil\n",
    "#   1 : bare ground\n",
    "#   2 : gramanoid\n",
    "#   3 : shade\n",
    "#   4 : shrub\n",
    "max_likelihood_file = \"./Sergio/max_likelihood/JOR_P_Post_max_likelihood.tif\"\n",
    "max_likelihood_tiff = rasterio.open(max_likelihood_file)\n",
    "max_likelihood_np = max_likelihood_tiff.read()\n",
    "max_likelihood_np = np.squeeze(max_likelihood_np)\n",
    "# Max likelihood classes\n",
    "#   0 : background\n",
    "#   1 : shrub\n",
    "#   2 : gramanoid\n",
    "#   3 : bare ground\n",
    "#   4 : shade\n",
    "#   5 : Others\n",
    "max_likelihood_np[max_likelihood_np==4] = 30\n",
    "max_likelihood_np[max_likelihood_np==1] = 4\n",
    "max_likelihood_np[max_likelihood_np==3] = 1\n",
    "max_likelihood_np[max_likelihood_np==30] = 3\n",
    "random_forest_file = \"./outputs/p_post_all.tif\"\n",
    "random_forest_tiff = rasterio.open(random_forest_file)\n",
    "random_forest_np = random_forest_tiff.read()\n",
    "random_forest_np = np.squeeze(random_forest_np)\n",
    "from collections import Counter\n",
    "# Random Forest classes\n",
    "#   0 : nil\n",
    "#   1 : bare ground\n",
    "#   2 : gramanoid\n",
    "#   3 : shade\n",
    "#   4 : shrub\n",
    "#   5 : background\n",
    "print(\"Maximum Likelihood\")\n",
    "classes = [\"bare ground\", \"gramanoid\", \"shade\", \"shrub\"]\n",
    "for i,label in enumerate(classes):\n",
    "    print(f\"\\t{label}\\t| Accuracy, Precision, Recall, FScore:{get_acc_precision_recall_fscore(ground_truth, max_likelihood_np, i+1)}\")\n",
    "print(\"Random Forest\")\n",
    "classes = [\"bare ground\", \"gramanoid\", \"shade\", \"shrub\"]\n",
    "for i,label in enumerate(classes):\n",
    "    print(f\"\\t{label}\\t| Accuracy, Precision, Recall, FScore:{get_acc_precision_recall_fscore(ground_truth, random_forest_np, i+1)}\")"
   ]
  },
  {
   "cell_type": "markdown",
   "metadata": {},
   "source": [
    "## Jornada Site T Pre Harvest"
   ]
  },
  {
   "cell_type": "code",
   "execution_count": 47,
   "metadata": {},
   "outputs": [
    {
     "name": "stderr",
     "output_type": "stream",
     "text": [
      "/home/ecology/.local/lib/python3.6/site-packages/pyproj/crs/crs.py:53: FutureWarning: '+init=<authority>:<code>' syntax is deprecated. '<authority>:<code>' is the preferred initialization method. When making the change, be mindful of axis order changes: https://pyproj4.github.io/pyproj/stable/gotchas.html#axis-order-changes-in-proj-6\n",
      "  return _prepare_from_string(\" \".join(pjargs))\n"
     ]
    },
    {
     "name": "stdout",
     "output_type": "stream",
     "text": [
      "Maximum Likelihood\n",
      "\tbare ground\t| Accuracy, Precision, Recall, FScore:(0.984, 0.8871, 0.984, 0.9331)\n",
      "\tgramanoid\t| Accuracy, Precision, Recall, FScore:(0.5027, 0.7658, 0.5027, 0.607)\n",
      "\tshade\t| Accuracy, Precision, Recall, FScore:(0.7435, 0.7684, 0.7435, 0.7557)\n",
      "\tshrub\t| Accuracy, Precision, Recall, FScore:(0.9098, 0.9261, 0.9098, 0.9179)\n",
      "Random Forest\n",
      "\tbare ground\t| Accuracy, Precision, Recall, FScore:(0.9794, 0.8523, 0.9794, 0.9114)\n",
      "\tgramanoid\t| Accuracy, Precision, Recall, FScore:(0.3326, 0.55, 0.3326, 0.4145)\n",
      "\tshade\t| Accuracy, Precision, Recall, FScore:(0.7952, 0.6722, 0.7952, 0.7286)\n",
      "\tshrub\t| Accuracy, Precision, Recall, FScore:(0.8003, 0.9594, 0.8003, 0.8727)\n"
     ]
    }
   ],
   "source": [
    "t_pre_tiff_filename = \"./Sergio/Images/JOR_T_Pre.tif\"\n",
    "t_pre_shp_filename = \"./Sergio/Labels/JOR_T_Pre.shp\"\n",
    "t_pre_data = Data(t_pre_tiff_filename, t_pre_shp_filename, classes = ['Bare Ground','Graminoid','Shade', 'Shrub'])\n",
    "t_pre_tiff = t_pre_data.read_tiff()\n",
    "t_pre_mask = t_pre_data.get_mask(column=\"Classname\", drop=\"Other\")\n",
    "nil = np.sum(t_pre_mask, axis=2) == 0\n",
    "ground_truth = np.argmax(t_pre_mask, axis=2)+1\n",
    "ground_truth[nil] = 0\n",
    "# Ground Truth classes\n",
    "#   0 : nil\n",
    "#   1 : bare ground\n",
    "#   2 : gramanoid\n",
    "#   3 : shade\n",
    "#   4 : shrub\n",
    "max_likelihood_file = \"./Sergio/max_likelihood/JOR_T_Pre_max_likelihood.tif\"\n",
    "max_likelihood_tiff = rasterio.open(max_likelihood_file)\n",
    "max_likelihood_np = max_likelihood_tiff.read()\n",
    "max_likelihood_np = np.squeeze(max_likelihood_np)\n",
    "# Max likelihood classes\n",
    "#   0 : background\n",
    "#   1 : shrub\n",
    "#   2 : gramanoid\n",
    "#   3 : bare ground\n",
    "#   4 : shade\n",
    "#   5 : Others\n",
    "max_likelihood_np[max_likelihood_np==4] = 30\n",
    "max_likelihood_np[max_likelihood_np==1] = 4\n",
    "max_likelihood_np[max_likelihood_np==3] = 1\n",
    "max_likelihood_np[max_likelihood_np==30] = 3\n",
    "random_forest_file = \"./outputs/t_pre_all.tif\"\n",
    "random_forest_tiff = rasterio.open(random_forest_file)\n",
    "random_forest_np = random_forest_tiff.read()\n",
    "random_forest_np = np.squeeze(random_forest_np)\n",
    "from collections import Counter\n",
    "# Random Forest classes\n",
    "#   0 : nil\n",
    "#   1 : bare ground\n",
    "#   2 : gramanoid\n",
    "#   3 : shade\n",
    "#   4 : shrub\n",
    "#   5 : background\n",
    "print(\"Maximum Likelihood\")\n",
    "ground_truth = ground_truth[:-1,:]\n",
    "random_forest_np = random_forest_np[:-1,:]\n",
    "classes = [\"bare ground\", \"gramanoid\", \"shade\", \"shrub\"]\n",
    "for i,label in enumerate(classes):\n",
    "    print(f\"\\t{label}\\t| Accuracy, Precision, Recall, FScore:{get_acc_precision_recall_fscore(ground_truth, max_likelihood_np, i+1)}\")\n",
    "print(\"Random Forest\")\n",
    "classes = [\"bare ground\", \"gramanoid\", \"shade\", \"shrub\"]\n",
    "for i,label in enumerate(classes):\n",
    "    print(f\"\\t{label}\\t| Accuracy, Precision, Recall, FScore:{get_acc_precision_recall_fscore(ground_truth, random_forest_np, i+1)}\")"
   ]
  },
  {
   "cell_type": "code",
   "execution_count": 37,
   "metadata": {},
   "outputs": [
    {
     "name": "stderr",
     "output_type": "stream",
     "text": [
      "/home/ecology/.local/lib/python3.6/site-packages/pyproj/crs/crs.py:53: FutureWarning: '+init=<authority>:<code>' syntax is deprecated. '<authority>:<code>' is the preferred initialization method. When making the change, be mindful of axis order changes: https://pyproj4.github.io/pyproj/stable/gotchas.html#axis-order-changes-in-proj-6\n",
      "  return _prepare_from_string(\" \".join(pjargs))\n"
     ]
    },
    {
     "name": "stdout",
     "output_type": "stream",
     "text": [
      "Maximum Likelihood\n",
      "\tbare ground\t| Accuracy, Precision, Recall, FScore:(0.9824, 0.9124, 0.9824, 0.9461)\n",
      "\tgramanoid\t| Accuracy, Precision, Recall, FScore:(0.5857, 0.8131, 0.5857, 0.6809)\n",
      "\tshade\t| Accuracy, Precision, Recall, FScore:(0.864, 0.8965, 0.864, 0.88)\n",
      "\tshrub\t| Accuracy, Precision, Recall, FScore:(0.9639, 0.9615, 0.9639, 0.9627)\n",
      "Random Forest\n",
      "\tbare ground\t| Accuracy, Precision, Recall, FScore:(0.9265, 0.9278, 0.9265, 0.9271)\n",
      "\tgramanoid\t| Accuracy, Precision, Recall, FScore:(0.6378, 0.6287, 0.6378, 0.6332)\n",
      "\tshade\t| Accuracy, Precision, Recall, FScore:(0.8749, 0.8073, 0.8749, 0.8397)\n",
      "\tshrub\t| Accuracy, Precision, Recall, FScore:(0.9346, 0.9783, 0.9346, 0.956)\n"
     ]
    }
   ],
   "source": [
    "t_post_tiff_filename = \"./Sergio/Images/JOR_T_Post.tif\"\n",
    "t_post_shp_filename = \"./Sergio/Labels/JOR_T_Post.shp\"\n",
    "t_post_data = Data(t_post_tiff_filename, t_post_shp_filename, classes = ['Bare Ground','Graminoid','Shade', 'Shrub'])\n",
    "t_post_tiff = t_post_data.read_tiff()\n",
    "t_post_mask = t_post_data.get_mask(column=\"Classname\", drop=\"Other\")\n",
    "nil = np.sum(t_post_mask, axis=2) == 0\n",
    "ground_truth = np.argmax(t_post_mask, axis=2)+1\n",
    "ground_truth[nil] = 0\n",
    "# Ground Truth classes\n",
    "#   0 : nil\n",
    "#   1 : bare ground\n",
    "#   2 : gramanoid\n",
    "#   3 : shade\n",
    "#   4 : shrub\n",
    "max_likelihood_file = \"./Sergio/max_likelihood/JOR_T_Post_max_likelihood.tif\"\n",
    "max_likelihood_tiff = rasterio.open(max_likelihood_file)\n",
    "max_likelihood_np = max_likelihood_tiff.read()\n",
    "max_likelihood_np = np.squeeze(max_likelihood_np)\n",
    "# Max likelihood classes\n",
    "#   0 : background\n",
    "#   1 : shrub\n",
    "#   2 : gramanoid\n",
    "#   3 : bare ground\n",
    "#   4 : shade\n",
    "#   5 : Others\n",
    "max_likelihood_np[max_likelihood_np==4] = 30\n",
    "max_likelihood_np[max_likelihood_np==1] = 4\n",
    "max_likelihood_np[max_likelihood_np==3] = 1\n",
    "max_likelihood_np[max_likelihood_np==30] = 3\n",
    "random_forest_file = \"./outputs/t_post_all.tif\"\n",
    "random_forest_tiff = rasterio.open(random_forest_file)\n",
    "random_forest_np = random_forest_tiff.read()\n",
    "random_forest_np = np.squeeze(random_forest_np)\n",
    "from collections import Counter\n",
    "# Random Forest classes\n",
    "#   0 : nil\n",
    "#   1 : bare ground\n",
    "#   2 : gramanoid\n",
    "#   3 : shade\n",
    "#   4 : shrub\n",
    "#   5 : background\n",
    "print(\"Maximum Likelihood\")\n",
    "classes = [\"bare ground\", \"gramanoid\", \"shade\", \"shrub\"]\n",
    "for i,label in enumerate(classes):\n",
    "    print(f\"\\t{label}\\t| Accuracy, Precision, Recall, FScore:{get_acc_precision_recall_fscore(ground_truth, max_likelihood_np, i+1)}\")\n",
    "print(\"Random Forest\")\n",
    "classes = [\"bare ground\", \"gramanoid\", \"shade\", \"shrub\"]\n",
    "for i,label in enumerate(classes):\n",
    "    print(f\"\\t{label}\\t| Accuracy, Precision, Recall, FScore:{get_acc_precision_recall_fscore(ground_truth, random_forest_np, i+1)}\")"
   ]
  }
 ],
 "metadata": {
  "kernelspec": {
   "display_name": "Python 3",
   "language": "python",
   "name": "python3"
  },
  "language_info": {
   "codemirror_mode": {
    "name": "ipython",
    "version": 3
   },
   "file_extension": ".py",
   "mimetype": "text/x-python",
   "name": "python",
   "nbconvert_exporter": "python",
   "pygments_lexer": "ipython3",
   "version": "3.6.9"
  }
 },
 "nbformat": 4,
 "nbformat_minor": 2
}
