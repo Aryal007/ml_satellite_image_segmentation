{
 "cells": [
  {
   "cell_type": "markdown",
   "metadata": {},
   "source": [
    "## Import Libraries"
   ]
  },
  {
   "cell_type": "code",
   "execution_count": 1,
   "metadata": {},
   "outputs": [],
   "source": [
    "from utils.data import Data\n",
    "import numpy as np\n",
    "import matplotlib.pyplot as plt\n",
    "import rasterio\n",
    "np.random.seed(7)"
   ]
  },
  {
   "cell_type": "markdown",
   "metadata": {},
   "source": [
    "## Define functions"
   ]
  },
  {
   "cell_type": "code",
   "execution_count": 2,
   "metadata": {},
   "outputs": [],
   "source": [
    "def get_acc(true, pred, channel):\n",
    "    pred[true == 0] = 0\n",
    "    correct = np.sum((true == channel)*(pred==channel))\n",
    "    total = np.sum(true==channel)\n",
    "    return correct/total\n",
    "\n",
    "def get_precision(true, pred, channel):\n",
    "    pred[true == 0] = 0\n",
    "    tp = np.sum((true == channel)*(pred==channel))\n",
    "    fp = np.sum((true != channel)*(pred==channel))\n",
    "    return tp/(tp+fp)\n",
    "\n",
    "def get_recall(true, pred, channel):\n",
    "    pred[true == 0] = 0\n",
    "    tp = np.sum((true == channel)*(pred==channel))\n",
    "    fn = np.sum((true == channel)*(pred!=channel))\n",
    "    return tp/(tp+fn)\n",
    "\n",
    "def get_fscore(true, pred, channel):\n",
    "    pred[true == 0] = 0\n",
    "    precision = get_precision(true, pred, channel)\n",
    "    recall = get_recall(true, pred, channel)\n",
    "    return 2*precision*recall/(precision+recall)\n",
    "\n",
    "def get_acc_precision_recall_fscore(true, pred, channel):\n",
    "    acc = get_acc(true, pred, channel)\n",
    "    precision = get_precision(true, pred, channel)\n",
    "    recall = get_recall(true, pred, channel)\n",
    "    fscore = get_fscore(true, pred, channel)\n",
    "    return round(acc, 4), round(precision, 4), round(recall, 4), round(fscore, 4)\n",
    "\n",
    "classes = sorted([\"Vegetation\", \"Bare Ground\", \"Shade\"])"
   ]
  },
  {
   "cell_type": "markdown",
   "metadata": {},
   "source": [
    "## Jornada Site C Post harvest"
   ]
  },
  {
   "cell_type": "code",
   "execution_count": 3,
   "metadata": {},
   "outputs": [
    {
     "name": "stderr",
     "output_type": "stream",
     "text": [
      "/home/mibook/env/lib/python3.8/site-packages/pyproj/crs/crs.py:53: FutureWarning: '+init=<authority>:<code>' syntax is deprecated. '<authority>:<code>' is the preferred initialization method. When making the change, be mindful of axis order changes: https://pyproj4.github.io/pyproj/stable/gotchas.html#axis-order-changes-in-proj-6\n",
      "  return _prepare_from_string(\" \".join(pjargs))\n"
     ]
    },
    {
     "name": "stdout",
     "output_type": "stream",
     "text": [
      "Maximum Likelihood\n",
      "\tBare Ground\t| Accuracy, Precision, Recall, FScore:(0.9914, 0.9685, 0.9914, 0.9798)\n",
      "\tShade\t| Accuracy, Precision, Recall, FScore:(0.9335, 0.9065, 0.9335, 0.9198)\n",
      "\tVegetation\t| Accuracy, Precision, Recall, FScore:(0.949, 0.9744, 0.949, 0.9615)\n",
      "Random Forest\n",
      "\tBare Ground\t| Accuracy, Precision, Recall, FScore:(0.9907, 0.9673, 0.9907, 0.9789)\n",
      "\tShade\t| Accuracy, Precision, Recall, FScore:(0.9654, 0.8773, 0.9654, 0.9192)\n",
      "\tVegetation\t| Accuracy, Precision, Recall, FScore:(0.9328, 0.9873, 0.9328, 0.9592)\n"
     ]
    }
   ],
   "source": [
    "c_post_tiff_filename = \"./Sergio/Images/JOR_C_Post.tif\"\n",
    "c_post_shp_filename = \"./Sergio/Labels/JOR_C_Post.shp\"\n",
    "c_post_data = Data(c_post_tiff_filename, c_post_shp_filename, classes = classes)\n",
    "c_post_tiff = c_post_data.read_tiff()\n",
    "c_post_mask = c_post_data.get_mask(column=\"Classname\", drop=\"Other\")\n",
    "nil = np.sum(c_post_mask, axis=2) == 0\n",
    "ground_truth = np.argmax(c_post_mask, axis=2)+1\n",
    "ground_truth[nil] = 0\n",
    "# Ground Truth classes\n",
    "#   0 : Background\n",
    "#   1 : Bare ground\n",
    "#   2 : Shade\n",
    "#   3 : Vegitation\n",
    "max_likelihood_file = \"./Sergio/max_likelihood/JOR_C_Post.tif\"\n",
    "max_likelihood_tiff = rasterio.open(max_likelihood_file)\n",
    "max_likelihood_np = max_likelihood_tiff.read()\n",
    "max_likelihood_np = np.squeeze(max_likelihood_np)\n",
    "# Max likelihood classes\n",
    "#   0 : Background\n",
    "#   1 : Bare ground\n",
    "#   2 : Shade\n",
    "#   3 : Vegitation\n",
    "max_likelihood_np[max_likelihood_np==1] = 30\n",
    "max_likelihood_np[max_likelihood_np==2] = 1\n",
    "max_likelihood_np[max_likelihood_np==3] = 2\n",
    "max_likelihood_np[max_likelihood_np==30] = 3\n",
    "random_forest_file = \"./outputs/c_post_all.tif\"\n",
    "random_forest_tiff = rasterio.open(random_forest_file)\n",
    "random_forest_np = random_forest_tiff.read()\n",
    "random_forest_np = np.squeeze(random_forest_np)\n",
    "from collections import Counter\n",
    "Counter(random_forest_np.flatten())\n",
    "print(\"Maximum Likelihood\")\n",
    "for i,label in enumerate(classes):\n",
    "    print(f\"\\t{label}\\t| Accuracy, Precision, Recall, FScore:{get_acc_precision_recall_fscore(ground_truth, max_likelihood_np, i+1)}\")\n",
    "print(\"Random Forest\")\n",
    "for i,label in enumerate(classes):\n",
    "    print(f\"\\t{label}\\t| Accuracy, Precision, Recall, FScore:{get_acc_precision_recall_fscore(ground_truth, random_forest_np, i+1)}\")"
   ]
  },
  {
   "cell_type": "markdown",
   "metadata": {},
   "source": [
    "## Jornada Site M Pre Harvest"
   ]
  },
  {
   "cell_type": "code",
   "execution_count": 4,
   "metadata": {},
   "outputs": [
    {
     "name": "stdout",
     "output_type": "stream",
     "text": [
      "Maximum Likelihood\n",
      "\tBare Ground\t| Accuracy, Precision, Recall, FScore:(0.9932, 0.993, 0.9932, 0.9931)\n",
      "\tShade\t| Accuracy, Precision, Recall, FScore:(0.9671, 0.9602, 0.9671, 0.9636)\n",
      "\tVegetation\t| Accuracy, Precision, Recall, FScore:(0.987, 0.9902, 0.987, 0.9886)\n",
      "Random Forest\n",
      "\tBare Ground\t| Accuracy, Precision, Recall, FScore:(0.8721, 0.7654, 0.8721, 0.8153)\n",
      "\tShade\t| Accuracy, Precision, Recall, FScore:(0.4721, 0.5545, 0.4721, 0.51)\n",
      "\tVegetation\t| Accuracy, Precision, Recall, FScore:(0.9076, 0.9532, 0.9076, 0.9299)\n"
     ]
    }
   ],
   "source": [
    "m_pre_tiff_filename = \"./Sergio/Images/JOR_M_Pre.tif\"\n",
    "m_pre_shp_filename = \"./Sergio/Labels/JOR_M_Pre.shp\"\n",
    "m_pre_data = Data(m_pre_tiff_filename, m_pre_shp_filename, classes = classes)\n",
    "m_pre_tiff = m_pre_data.read_tiff()\n",
    "m_pre_mask = m_pre_data.get_mask(column=\"Classname\", drop=\"Other\")\n",
    "nil = np.sum(m_pre_mask, axis=2) == 0\n",
    "ground_truth = np.argmax(m_pre_mask, axis=2)+1\n",
    "ground_truth[nil] = 0\n",
    "# Ground Truth classes\n",
    "#   0 : Bare ground\n",
    "#   1 : Shade\n",
    "#   2 : Vegitation\n",
    "max_likelihood_file = \"./Sergio/max_likelihood/JOR_M_Pre.tif\"\n",
    "max_likelihood_tiff = rasterio.open(max_likelihood_file)\n",
    "max_likelihood_np = max_likelihood_tiff.read()\n",
    "max_likelihood_np = np.squeeze(max_likelihood_np)\n",
    "# Max likelihood classes\n",
    "#   0 : Background\n",
    "#   1 : Bare ground\n",
    "#   2 : Shade\n",
    "#   3 : Vegitation\n",
    "max_likelihood_np[max_likelihood_np==1] = 30\n",
    "max_likelihood_np[max_likelihood_np==2] = 1\n",
    "max_likelihood_np[max_likelihood_np==3] = 2\n",
    "max_likelihood_np[max_likelihood_np==30] = 3\n",
    "random_forest_file = \"./outputs/m_pre_all.tif\"\n",
    "random_forest_tiff = rasterio.open(random_forest_file)\n",
    "random_forest_np = random_forest_tiff.read()\n",
    "random_forest_np = np.squeeze(random_forest_np)\n",
    "from collections import Counter\n",
    "Counter(random_forest_np.flatten())\n",
    "print(\"Maximum Likelihood\")\n",
    "ground_truth = ground_truth[:-1,:-1]\n",
    "random_forest_np = random_forest_np[:-1,:-1]\n",
    "for i,label in enumerate(classes):\n",
    "    print(f\"\\t{label}\\t| Accuracy, Precision, Recall, FScore:{get_acc_precision_recall_fscore(ground_truth, max_likelihood_np, i+1)}\")\n",
    "print(\"Random Forest\")\n",
    "for i,label in enumerate(classes):\n",
    "    print(f\"\\t{label}\\t| Accuracy, Precision, Recall, FScore:{get_acc_precision_recall_fscore(ground_truth, random_forest_np, i+1)}\")"
   ]
  },
  {
   "cell_type": "markdown",
   "metadata": {},
   "source": [
    "## Jornada Site M Post harvest"
   ]
  },
  {
   "cell_type": "code",
   "execution_count": 5,
   "metadata": {},
   "outputs": [
    {
     "name": "stdout",
     "output_type": "stream",
     "text": [
      "Maximum Likelihood\n",
      "\tBare Ground\t| Accuracy, Precision, Recall, FScore:(0.9963, 0.9955, 0.9963, 0.9959)\n",
      "\tShade\t| Accuracy, Precision, Recall, FScore:(0.9816, 0.9908, 0.9816, 0.9862)\n",
      "\tVegetation\t| Accuracy, Precision, Recall, FScore:(0.9962, 0.9942, 0.9962, 0.9952)\n",
      "Random Forest\n",
      "\tBare Ground\t| Accuracy, Precision, Recall, FScore:(0.9974, 0.9968, 0.9974, 0.9971)\n",
      "\tShade\t| Accuracy, Precision, Recall, FScore:(0.996, 0.9783, 0.996, 0.9871)\n",
      "\tVegetation\t| Accuracy, Precision, Recall, FScore:(0.9941, 0.9991, 0.9941, 0.9966)\n"
     ]
    }
   ],
   "source": [
    "m_post_tiff_filename = \"./Sergio/Images/JOR_M_Post.tif\"\n",
    "m_post_shp_filename = \"./Sergio/Labels/JOR_M_Post.shp\"\n",
    "m_post_data = Data(m_post_tiff_filename, m_post_shp_filename, classes = classes)\n",
    "m_post_tiff = m_post_data.read_tiff()\n",
    "m_post_mask = m_post_data.get_mask(column=\"Classname\", drop=\"Other\")\n",
    "nil = np.sum(m_post_mask, axis=2) == 0\n",
    "ground_truth = np.argmax(m_post_mask, axis=2)+1\n",
    "ground_truth[nil] = 0\n",
    "# Ground Truth classes\n",
    "#   0 : Background\n",
    "#   1 : Bare ground\n",
    "#   2 : Shade\n",
    "#   3 : Vegitation\n",
    "max_likelihood_file = \"./Sergio/max_likelihood/JOR_M_Post.tif\"\n",
    "max_likelihood_tiff = rasterio.open(max_likelihood_file)\n",
    "max_likelihood_np = max_likelihood_tiff.read()\n",
    "max_likelihood_np = np.squeeze(max_likelihood_np)\n",
    "# Max likelihood classes\n",
    "#   0 : Background\n",
    "#   1 : Bare ground\n",
    "#   2 : Shade\n",
    "#   3 : Vegitation\n",
    "max_likelihood_np[max_likelihood_np==1] = 30\n",
    "max_likelihood_np[max_likelihood_np==2] = 1\n",
    "max_likelihood_np[max_likelihood_np==3] = 2\n",
    "max_likelihood_np[max_likelihood_np==30] = 3\n",
    "random_forest_file = \"./outputs/m_post_all.tif\"\n",
    "random_forest_tiff = rasterio.open(random_forest_file)\n",
    "random_forest_np = random_forest_tiff.read()\n",
    "random_forest_np = np.squeeze(random_forest_np)\n",
    "from collections import Counter\n",
    "Counter(random_forest_np.flatten())\n",
    "print(\"Maximum Likelihood\")\n",
    "for i,label in enumerate(classes):\n",
    "    print(f\"\\t{label}\\t| Accuracy, Precision, Recall, FScore:{get_acc_precision_recall_fscore(ground_truth, max_likelihood_np, i+1)}\")\n",
    "print(\"Random Forest\")\n",
    "for i,label in enumerate(classes):\n",
    "    print(f\"\\t{label}\\t| Accuracy, Precision, Recall, FScore:{get_acc_precision_recall_fscore(ground_truth, random_forest_np, i+1)}\")"
   ]
  },
  {
   "cell_type": "markdown",
   "metadata": {},
   "source": [
    "## Jornada Site P Pre Harvest"
   ]
  },
  {
   "cell_type": "code",
   "execution_count": 6,
   "metadata": {},
   "outputs": [
    {
     "name": "stdout",
     "output_type": "stream",
     "text": [
      "Maximum Likelihood\n",
      "\tBare Ground\t| Accuracy, Precision, Recall, FScore:(0.9978, 0.9952, 0.9978, 0.9965)\n",
      "\tShade\t| Accuracy, Precision, Recall, FScore:(0.929, 0.9636, 0.929, 0.946)\n",
      "\tVegetation\t| Accuracy, Precision, Recall, FScore:(0.9825, 0.9731, 0.9825, 0.9778)\n",
      "Random Forest\n",
      "\tBare Ground\t| Accuracy, Precision, Recall, FScore:(0.9946, 0.9987, 0.9946, 0.9967)\n",
      "\tShade\t| Accuracy, Precision, Recall, FScore:(0.9531, 0.8881, 0.9531, 0.9195)\n",
      "\tVegetation\t| Accuracy, Precision, Recall, FScore:(0.9621, 0.983, 0.9621, 0.9724)\n"
     ]
    }
   ],
   "source": [
    "p_pre_tiff_filename = \"./Sergio/Images/JOR_P_Pre.tif\"\n",
    "p_pre_shp_filename = \"./Sergio/Labels/JOR_P_Pre.shp\"\n",
    "p_pre_data = Data(p_pre_tiff_filename, p_pre_shp_filename, classes = classes)\n",
    "p_pre_tiff = p_pre_data.read_tiff()\n",
    "p_pre_mask = p_pre_data.get_mask(column=\"Classname\", drop=\"Other\")\n",
    "nil = np.sum(p_pre_mask, axis=2) == 0\n",
    "ground_truth = np.argmax(p_pre_mask, axis=2)+1\n",
    "ground_truth[nil] = 0\n",
    "# Ground Truth classes\n",
    "#   0 : Background\n",
    "#   1 : Bare ground\n",
    "#   2 : Shade\n",
    "#   3 : Vegitation\n",
    "max_likelihood_file = \"./Sergio/max_likelihood/JOR_P_Pre.tif\"\n",
    "max_likelihood_tiff = rasterio.open(max_likelihood_file)\n",
    "max_likelihood_np = max_likelihood_tiff.read()\n",
    "max_likelihood_np = np.squeeze(max_likelihood_np)\n",
    "# Max likelihood classes\n",
    "#   0 : Background\n",
    "#   1 : Bare ground\n",
    "#   2 : Shade\n",
    "#   3 : Vegitation\n",
    "max_likelihood_np[max_likelihood_np==1] = 30\n",
    "max_likelihood_np[max_likelihood_np==2] = 1\n",
    "max_likelihood_np[max_likelihood_np==3] = 2\n",
    "max_likelihood_np[max_likelihood_np==30] = 3\n",
    "random_forest_file = \"./outputs/p_pre_all.tif\"\n",
    "random_forest_tiff = rasterio.open(random_forest_file)\n",
    "random_forest_np = random_forest_tiff.read()\n",
    "random_forest_np = np.squeeze(random_forest_np)\n",
    "from collections import Counter\n",
    "Counter(random_forest_np.flatten())\n",
    "print(\"Maximum Likelihood\")\n",
    "ground_truth = ground_truth[:-1,:-1]\n",
    "random_forest_np = random_forest_np[:-1,:-1]\n",
    "for i,label in enumerate(classes):\n",
    "    print(f\"\\t{label}\\t| Accuracy, Precision, Recall, FScore:{get_acc_precision_recall_fscore(ground_truth, max_likelihood_np, i+1)}\")\n",
    "print(\"Random Forest\")\n",
    "for i,label in enumerate(classes):\n",
    "    print(f\"\\t{label}\\t| Accuracy, Precision, Recall, FScore:{get_acc_precision_recall_fscore(ground_truth, random_forest_np, i+1)}\")"
   ]
  },
  {
   "cell_type": "markdown",
   "metadata": {},
   "source": [
    "## Jornada Site P Post Harvest"
   ]
  },
  {
   "cell_type": "code",
   "execution_count": 7,
   "metadata": {},
   "outputs": [
    {
     "name": "stdout",
     "output_type": "stream",
     "text": [
      "Maximum Likelihood\n",
      "\tBare Ground\t| Accuracy, Precision, Recall, FScore:(0.994, 0.9967, 0.994, 0.9954)\n",
      "\tShade\t| Accuracy, Precision, Recall, FScore:(0.9572, 0.9871, 0.9572, 0.9719)\n",
      "\tVegetation\t| Accuracy, Precision, Recall, FScore:(0.9925, 0.9756, 0.9925, 0.984)\n",
      "Random Forest\n",
      "\tBare Ground\t| Accuracy, Precision, Recall, FScore:(0.9916, 0.9976, 0.9916, 0.9946)\n",
      "\tShade\t| Accuracy, Precision, Recall, FScore:(0.9819, 0.9618, 0.9819, 0.9717)\n",
      "\tVegetation\t| Accuracy, Precision, Recall, FScore:(0.9881, 0.9879, 0.9881, 0.988)\n"
     ]
    }
   ],
   "source": [
    "p_post_tiff_filename = \"./Sergio/Images/JOR_P_Post.tif\"\n",
    "p_post_shp_filename = \"./Sergio/Labels/JOR_P_Post.shp\"\n",
    "p_post_data = Data(p_post_tiff_filename, p_post_shp_filename, classes = classes)\n",
    "p_post_tiff = p_post_data.read_tiff()\n",
    "p_post_mask = p_post_data.get_mask(column=\"Classname\", drop=\"Other\")\n",
    "nil = np.sum(p_post_mask, axis=2) == 0\n",
    "ground_truth = np.argmax(p_post_mask, axis=2)+1\n",
    "ground_truth[nil] = 0\n",
    "# Ground Truth classes\n",
    "#   0 : Background\n",
    "#   1 : Bare ground\n",
    "#   2 : Shade\n",
    "#   3 : Vegitation\n",
    "max_likelihood_file = \"./Sergio/max_likelihood/JOR_P_Post.tif\"\n",
    "max_likelihood_tiff = rasterio.open(max_likelihood_file)\n",
    "max_likelihood_np = max_likelihood_tiff.read()\n",
    "max_likelihood_np = np.squeeze(max_likelihood_np)\n",
    "# Max likelihood classes\n",
    "#   0 : Background\n",
    "#   1 : Bare ground\n",
    "#   2 : Shade\n",
    "#   3 : Vegitation\n",
    "max_likelihood_np[max_likelihood_np==1] = 30\n",
    "max_likelihood_np[max_likelihood_np==2] = 1\n",
    "max_likelihood_np[max_likelihood_np==3] = 2\n",
    "max_likelihood_np[max_likelihood_np==30] = 3\n",
    "random_forest_file = \"./outputs/p_post_all.tif\"\n",
    "random_forest_tiff = rasterio.open(random_forest_file)\n",
    "random_forest_np = random_forest_tiff.read()\n",
    "random_forest_np = np.squeeze(random_forest_np)\n",
    "from collections import Counter\n",
    "print(\"Maximum Likelihood\")\n",
    "for i,label in enumerate(classes):\n",
    "    print(f\"\\t{label}\\t| Accuracy, Precision, Recall, FScore:{get_acc_precision_recall_fscore(ground_truth, max_likelihood_np, i+1)}\")\n",
    "print(\"Random Forest\")\n",
    "for i,label in enumerate(classes):\n",
    "    print(f\"\\t{label}\\t| Accuracy, Precision, Recall, FScore:{get_acc_precision_recall_fscore(ground_truth, random_forest_np, i+1)}\")"
   ]
  },
  {
   "cell_type": "markdown",
   "metadata": {},
   "source": [
    "## Jornada Site T Pre Harvest"
   ]
  },
  {
   "cell_type": "code",
   "execution_count": 8,
   "metadata": {},
   "outputs": [
    {
     "name": "stdout",
     "output_type": "stream",
     "text": [
      "Maximum Likelihood\n",
      "\tBare Ground\t| Accuracy, Precision, Recall, FScore:(0.9969, 0.9888, 0.9969, 0.9929)\n",
      "\tShade\t| Accuracy, Precision, Recall, FScore:(0.8504, 0.7347, 0.8504, 0.7883)\n",
      "\tVegetation\t| Accuracy, Precision, Recall, FScore:(0.867, 0.9374, 0.867, 0.9008)\n",
      "Random Forest\n",
      "\tBare Ground\t| Accuracy, Precision, Recall, FScore:(0.9928, 0.9915, 0.9928, 0.9922)\n",
      "\tShade\t| Accuracy, Precision, Recall, FScore:(0.8919, 0.6398, 0.8919, 0.7451)\n",
      "\tVegetation\t| Accuracy, Precision, Recall, FScore:(0.7986, 0.9396, 0.7986, 0.8634)\n"
     ]
    }
   ],
   "source": [
    "t_pre_tiff_filename = \"./Sergio/Images/JOR_T_Pre.tif\"\n",
    "t_pre_shp_filename = \"./Sergio/Labels/JOR_T_Pre.shp\"\n",
    "t_pre_data = Data(t_pre_tiff_filename, t_pre_shp_filename, classes = classes)\n",
    "t_pre_tiff = t_pre_data.read_tiff()\n",
    "t_pre_mask = t_pre_data.get_mask(column=\"Classname\", drop=\"Other\")\n",
    "nil = np.sum(t_pre_mask, axis=2) == 0\n",
    "ground_truth = np.argmax(t_pre_mask, axis=2)+1\n",
    "ground_truth[nil] = 0\n",
    "# Ground Truth classes\n",
    "#   0 : Background\n",
    "#   1 : Bare ground\n",
    "#   2 : Shade\n",
    "#   3 : Vegitation\n",
    "max_likelihood_file = \"./Sergio/max_likelihood/JOR_T_Pre.tif\"\n",
    "max_likelihood_tiff = rasterio.open(max_likelihood_file)\n",
    "max_likelihood_np = max_likelihood_tiff.read()\n",
    "max_likelihood_np = np.squeeze(max_likelihood_np)\n",
    "# Max likelihood classes\n",
    "#   0 : Background\n",
    "#   1 : Bare ground\n",
    "#   2 : Shade\n",
    "#   3 : Vegitation\n",
    "max_likelihood_np[max_likelihood_np==1] = 30\n",
    "max_likelihood_np[max_likelihood_np==2] = 1\n",
    "max_likelihood_np[max_likelihood_np==3] = 2\n",
    "max_likelihood_np[max_likelihood_np==30] = 3\n",
    "random_forest_file = \"./outputs/t_pre_all.tif\"\n",
    "random_forest_tiff = rasterio.open(random_forest_file)\n",
    "random_forest_np = random_forest_tiff.read()\n",
    "random_forest_np = np.squeeze(random_forest_np)\n",
    "from collections import Counter\n",
    "print(\"Maximum Likelihood\")\n",
    "ground_truth = ground_truth[:-1,:]\n",
    "random_forest_np = random_forest_np[:-1,:]\n",
    "for i,label in enumerate(classes):\n",
    "    print(f\"\\t{label}\\t| Accuracy, Precision, Recall, FScore:{get_acc_precision_recall_fscore(ground_truth, max_likelihood_np, i+1)}\")\n",
    "print(\"Random Forest\")\n",
    "for i,label in enumerate(classes):\n",
    "    print(f\"\\t{label}\\t| Accuracy, Precision, Recall, FScore:{get_acc_precision_recall_fscore(ground_truth, random_forest_np, i+1)}\")"
   ]
  },
  {
   "cell_type": "code",
   "execution_count": 9,
   "metadata": {},
   "outputs": [
    {
     "name": "stdout",
     "output_type": "stream",
     "text": [
      "Maximum Likelihood\n",
      "\tBare Ground\t| Accuracy, Precision, Recall, FScore:(0.9972, 0.9958, 0.9972, 0.9965)\n",
      "\tShade\t| Accuracy, Precision, Recall, FScore:(0.9294, 0.8859, 0.9294, 0.9071)\n",
      "\tVegetation\t| Accuracy, Precision, Recall, FScore:(0.9541, 0.9739, 0.9541, 0.9639)\n",
      "Random Forest\n",
      "\tBare Ground\t| Accuracy, Precision, Recall, FScore:(0.9947, 0.9957, 0.9947, 0.9952)\n",
      "\tShade\t| Accuracy, Precision, Recall, FScore:(0.9629, 0.7634, 0.9629, 0.8516)\n",
      "\tVegetation\t| Accuracy, Precision, Recall, FScore:(0.892, 0.9817, 0.892, 0.9347)\n"
     ]
    }
   ],
   "source": [
    "t_post_tiff_filename = \"./Sergio/Images/JOR_T_Post.tif\"\n",
    "t_post_shp_filename = \"./Sergio/Labels/JOR_T_Post.shp\"\n",
    "t_post_data = Data(t_post_tiff_filename, t_post_shp_filename, classes = classes)\n",
    "t_post_tiff = t_post_data.read_tiff()\n",
    "t_post_mask = t_post_data.get_mask(column=\"Classname\", drop=\"Other\")\n",
    "nil = np.sum(t_post_mask, axis=2) == 0\n",
    "ground_truth = np.argmax(t_post_mask, axis=2)+1\n",
    "ground_truth[nil] = 0\n",
    "# Ground Truth classes\n",
    "#   0 : Background\n",
    "#   1 : Bare ground\n",
    "#   2 : Shade\n",
    "#   3 : Vegitation\n",
    "max_likelihood_file = \"./Sergio/max_likelihood/JOR_T_Post.tif\"\n",
    "max_likelihood_tiff = rasterio.open(max_likelihood_file)\n",
    "max_likelihood_np = max_likelihood_tiff.read()\n",
    "max_likelihood_np = np.squeeze(max_likelihood_np)\n",
    "# Max likelihood classes\n",
    "#   0 : Background\n",
    "#   1 : Bare ground\n",
    "#   2 : Shade\n",
    "#   3 : Vegitation\n",
    "max_likelihood_np[max_likelihood_np==1] = 30\n",
    "max_likelihood_np[max_likelihood_np==2] = 1\n",
    "max_likelihood_np[max_likelihood_np==3] = 2\n",
    "max_likelihood_np[max_likelihood_np==30] = 3\n",
    "random_forest_file = \"./outputs/t_post_all.tif\"\n",
    "random_forest_tiff = rasterio.open(random_forest_file)\n",
    "random_forest_np = random_forest_tiff.read()\n",
    "random_forest_np = np.squeeze(random_forest_np)\n",
    "from collections import Counter\n",
    "print(\"Maximum Likelihood\")\n",
    "for i,label in enumerate(classes):\n",
    "    print(f\"\\t{label}\\t| Accuracy, Precision, Recall, FScore:{get_acc_precision_recall_fscore(ground_truth, max_likelihood_np, i+1)}\")\n",
    "print(\"Random Forest\")\n",
    "for i,label in enumerate(classes):\n",
    "    print(f\"\\t{label}\\t| Accuracy, Precision, Recall, FScore:{get_acc_precision_recall_fscore(ground_truth, random_forest_np, i+1)}\")"
   ]
  }
 ],
 "metadata": {
  "kernelspec": {
   "display_name": "Python 3",
   "language": "python",
   "name": "python3"
  },
  "language_info": {
   "codemirror_mode": {
    "name": "ipython",
    "version": 3
   },
   "file_extension": ".py",
   "mimetype": "text/x-python",
   "name": "python",
   "nbconvert_exporter": "python",
   "pygments_lexer": "ipython3",
   "version": "3.8.5"
  }
 },
 "nbformat": 4,
 "nbformat_minor": 2
}
