{
 "cells": [
  {
   "cell_type": "markdown",
   "metadata": {},
   "source": [
    "# K-fold cross validation (k=number of samples =16)\n",
    "\n",
    "For each run, we test on a single image and train on n_samples-1 images. The final score is in the last cell"
   ]
  },
  {
   "cell_type": "code",
   "execution_count": 2,
   "metadata": {},
   "outputs": [],
   "source": [
    "from utils.data import Data\n",
    "from utils.estimators import Dataset, Classifier\n",
    "import numpy as np\n",
    "%matplotlib inline"
   ]
  },
  {
   "cell_type": "code",
   "execution_count": 4,
   "metadata": {},
   "outputs": [
    {
     "name": "stderr",
     "output_type": "stream",
     "text": [
      "/home/mibook/anaconda3/lib/python3.8/site-packages/pyproj/crs/crs.py:53: FutureWarning: '+init=<authority>:<code>' syntax is deprecated. '<authority>:<code>' is the preferred initialization method. When making the change, be mindful of axis order changes: https://pyproj4.github.io/pyproj/stable/gotchas.html#axis-order-changes-in-proj-6\n",
      "  return _prepare_from_string(\" \".join(pjargs))\n"
     ]
    }
   ],
   "source": [
    "tiff_location = \"./Sample/Images/\"\n",
    "shp_location = \"./Sample/Labels/\"\n",
    "all_data = Data(tiff_location, shp_location, classes = [\"water\", \"land\"])\n",
    "all_tiff = all_data.read_tiff() \n",
    "all_mask = all_data.get_mask()\n",
    "X, y = all_data.get_Xy(all_tiff, all_mask, n_sample = 200000, k_fold=True)"
   ]
  },
  {
   "cell_type": "code",
   "execution_count": 12,
   "metadata": {},
   "outputs": [
    {
     "name": "stdout",
     "output_type": "stream",
     "text": [
      "Training on split 1 out of split 3\n",
      "\n",
      "Random Forest\n",
      "Elapsed_time training  0.075389 \n",
      "Accuracy on train Set: \n",
      "1.0\n",
      "Accuracy on Test Set: \n",
      "0.5012\n",
      "Classification Report: \n",
      "              precision    recall  f1-score   support\n",
      "\n",
      "           0       1.00      0.00      0.00      5000\n",
      "           1       0.50      1.00      0.67      5000\n",
      "\n",
      "    accuracy                           0.50     10000\n",
      "   macro avg       0.75      0.50      0.34     10000\n",
      "weighted avg       0.75      0.50      0.34     10000\n",
      "\n",
      "Confusion Matrix: \n",
      "[[  12 4988]\n",
      " [   0 5000]]\n",
      "Training on split 2 out of split 3\n",
      "\n",
      "Random Forest\n",
      "Elapsed_time training  0.044353 \n",
      "Accuracy on train Set: \n",
      "1.0\n",
      "Accuracy on Test Set: \n",
      "0.4166\n",
      "Classification Report: \n",
      "              precision    recall  f1-score   support\n",
      "\n",
      "           0       0.45      0.83      0.59      5000\n",
      "           1       0.01      0.00      0.00      5000\n",
      "\n",
      "    accuracy                           0.42     10000\n",
      "   macro avg       0.23      0.42      0.30     10000\n",
      "weighted avg       0.23      0.42      0.30     10000\n",
      "\n",
      "Confusion Matrix: \n",
      "[[4154  846]\n",
      " [4988   12]]\n",
      "Training on split 3 out of split 3\n",
      "\n",
      "Random Forest\n",
      "Elapsed_time training  0.059283 \n",
      "Accuracy on train Set: \n",
      "1.0\n",
      "Accuracy on Test Set: \n",
      "0.5\n",
      "Classification Report: \n",
      "              precision    recall  f1-score   support\n",
      "\n",
      "           0       0.00      0.00      0.00      5000\n",
      "           1       0.50      1.00      0.67      5000\n",
      "\n",
      "    accuracy                           0.50     10000\n",
      "   macro avg       0.25      0.50      0.33     10000\n",
      "weighted avg       0.25      0.50      0.33     10000\n",
      "\n",
      "Confusion Matrix: \n",
      "[[   0 5000]\n",
      " [   0 5000]]\n"
     ]
    },
    {
     "name": "stderr",
     "output_type": "stream",
     "text": [
      "/home/mibook/anaconda3/lib/python3.8/site-packages/sklearn/metrics/_classification.py:1221: UndefinedMetricWarning: Precision and F-score are ill-defined and being set to 0.0 in labels with no predicted samples. Use `zero_division` parameter to control this behavior.\n",
      "  _warn_prf(average, modifier, msg_start, len(result))\n"
     ]
    }
   ],
   "source": [
    "classifier = Classifier()\n",
    "all_preds = []\n",
    "all_y = []\n",
    "for i in range(X.shape[0]):\n",
    "    print(f\"Training on split {i+1} out of split {X.shape[0]}\")\n",
    "    _tempX = np.copy(X)\n",
    "    _tempY = np.copy(y)\n",
    "    X_test, y_test = _tempX[i], _tempY[i]\n",
    "    X_train, y_train = np.delete(_tempX, i, 0).reshape(-1, X.shape[2]), np.delete(_tempY, i, 0).reshape(-1, y.shape[2])\n",
    "    dataset = Dataset(X_train, X_test, y_train, y_test)\n",
    "    all_y.extend(dataset.testY)\n",
    "    preds = classifier.random_forest(trainX=dataset.trainX, trainY=dataset.trainY, \n",
    "                                     testX=dataset.testX, testY=dataset.testY,\n",
    "                                     grid_search=False, train=True, \n",
    "                                     n_estimators = 10, max_depth = 10)\n",
    "    all_preds.extend(preds)\n",
    "all_preds = np.asarray(all_preds)\n",
    "all_y = np.asarray(all_y)"
   ]
  },
  {
   "cell_type": "code",
   "execution_count": 11,
   "metadata": {},
   "outputs": [
    {
     "name": "stdout",
     "output_type": "stream",
     "text": [
      "Classification Report: \n",
      "              precision    recall  f1-score   support\n",
      "\n",
      "           0       0.46      0.28      0.34     15000\n",
      "           1       0.48      0.67      0.56     15000\n",
      "\n",
      "    accuracy                           0.47     30000\n",
      "   macro avg       0.47      0.47      0.45     30000\n",
      "weighted avg       0.47      0.47      0.45     30000\n",
      "\n",
      "Confusion Matrix: \n",
      "[[ 4166 10834]\n",
      " [ 4988 10012]]\n"
     ]
    }
   ],
   "source": [
    "from sklearn import metrics\n",
    "print(\"Classification Report: \")\n",
    "print(metrics.classification_report(all_y, all_preds))\n",
    "print(\"Confusion Matrix: \")\n",
    "print(metrics.confusion_matrix(all_y, all_preds))"
   ]
  }
 ],
 "metadata": {
  "kernelspec": {
   "display_name": "Python 3",
   "language": "python",
   "name": "python3"
  },
  "language_info": {
   "codemirror_mode": {
    "name": "ipython",
    "version": 3
   },
   "file_extension": ".py",
   "mimetype": "text/x-python",
   "name": "python",
   "nbconvert_exporter": "python",
   "pygments_lexer": "ipython3",
   "version": "3.8.3"
  }
 },
 "nbformat": 4,
 "nbformat_minor": 4
}
